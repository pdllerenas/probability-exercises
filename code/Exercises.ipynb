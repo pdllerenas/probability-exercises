{
 "cells": [
  {
   "cell_type": "markdown",
   "metadata": {},
   "source": [
    "Example 2.3.a"
   ]
  },
  {
   "cell_type": "code",
   "execution_count": 1,
   "metadata": {},
   "outputs": [
    {
     "name": "stdout",
     "output_type": "stream",
     "text": [
      "279.2\n"
     ]
    }
   ],
   "source": [
    "def nameof(var, local_vars):\n",
    "    return [name for name, value in local_vars.items() if value is var].pop()\n",
    "\n",
    "\n",
    "def Mean(data: list[float]) -> float:\n",
    "    return sum(data)/len(data)\n",
    "\n",
    "print(Mean([280, 278, 272, 276, 281, 279, 276, 281, 289, 280]))"
   ]
  },
  {
   "cell_type": "code",
   "execution_count": 2,
   "metadata": {},
   "outputs": [
    {
     "name": "stdout",
     "output_type": "stream",
     "text": [
      "18.24074074074074\n",
      "18.24074074074074\n"
     ]
    }
   ],
   "source": [
    "def DotProduct(v1: list[float], v2: list[float]) -> float:\n",
    "    if len(v1) != len(v2):\n",
    "        raise SyntaxError(\"Lists must be of equal length.\")\n",
    "    \n",
    "    result = 0\n",
    "    for i in range(len(v1)):\n",
    "        result += v1[i] * v2[i]\n",
    "    return result\n",
    "\n",
    "def WeighedAverage(data: list[tuple[float, float]]) -> float:\n",
    "    v1 = [v[0] for v in data]\n",
    "    v2 = [v[1] for v in data]\n",
    "    return DotProduct(v1, v2)/sum(v2)\n",
    "\n",
    "def WeighedMean(values: list[float], frequencies: list[float]) -> float:\n",
    "    if len(values) != len(frequencies):\n",
    "        raise SyntaxError(\"Lists must be of equal length\")\n",
    "    return DotProduct(values, frequencies)/sum(frequencies)\n",
    "\n",
    "print (WeighedMean([15, 16, 17, 18, 19, 20], [2, 5, 11, 9, 14, 13]))\n",
    "print(WeighedAverage([(15, 2), (16, 5), (17, 11), (18, 9), (19, 14), (20, 13)]))"
   ]
  },
  {
   "cell_type": "code",
   "execution_count": 3,
   "metadata": {},
   "outputs": [
    {
     "name": "stdout",
     "output_type": "stream",
     "text": [
      "mean for germ_free_mice:  344.0689655172414\n",
      "median for germ_free_mice:  259.0\n",
      "mean for conventional_mice:  292.3157894736842\n",
      "median for conventional_mice:  265.0\n"
     ]
    }
   ],
   "source": [
    "def Median(data: list[float]) -> float:\n",
    "    data.sort()\n",
    "    length = len(data)\n",
    "    if length%2 == 1:\n",
    "        return data[length//2]\n",
    "    else:\n",
    "        return (data[length//2] + data[length//2 - 1])/2\n",
    "\n",
    "def StemLeafToList(stemleaf: dict[int, list[str]]) -> list[float]:\n",
    "    return [float(str(k) + i) for k, v in stemleaf.items() for i in v]\n",
    "\n",
    "def StemLeafMedian(stemleaf: dict[int, list[str]]) -> float:\n",
    "    return Median(StemLeafToList(stemleaf))\n",
    "\n",
    "def StemLeafMean(stemleaf: dict[int, list[str]]) -> float:\n",
    "    return Mean(StemLeafToList(stemleaf))\n",
    "\n",
    "germ_free_mice = { \n",
    "    1: [\"58\", \"92\", \"93\", \"94\", \"95\"], \n",
    "    2: [\"02\", \"12\", \"15\", \"29\", \"30\", \"37\", \"40\", \"44\", \"47\", \"59\"], \n",
    "    3: [\"01\", \"01\", \"21\", \"37\"], \n",
    "    4: [\"15\", \"34\", \"44\", \"85\", \"96\"], \n",
    "    5: [\"29\", \"37\"], \n",
    "    6: [\"24\"], \n",
    "    7: [\"07\"], \n",
    "    8: [\"00\"]\n",
    "}\n",
    "conventional_mice = {\n",
    "    1: [\"59\", \"89\", \"91\", \"98\"],\n",
    "    2: [\"35\", \"45\", \"50\", \"56\", \"61\", \"65\", \"66\", \"80\"],\n",
    "    3: [\"43\", \"56\", \"83\"],\n",
    "    4: [\"03\", \"14\", \"28\", \"32\"]\n",
    "}\n",
    "\n",
    "print(\"mean for \" + nameof(germ_free_mice, locals()) + \": \", StemLeafMean(germ_free_mice))\n",
    "print(\"median for \" + nameof(germ_free_mice, locals()) + \": \", StemLeafMedian(germ_free_mice))\n",
    "print(\"mean for \" + nameof(conventional_mice, locals()) + \": \", StemLeafMean(conventional_mice))\n",
    "print(\"median for \" + nameof(conventional_mice, locals()) + \": \", StemLeafMedian(conventional_mice))"
   ]
  },
  {
   "cell_type": "code",
   "execution_count": 4,
   "metadata": {},
   "outputs": [
    {
     "name": "stdout",
     "output_type": "stream",
     "text": [
      "1\n"
     ]
    }
   ],
   "source": [
    "def Mode(data: list[float]) -> float:\n",
    "    return max(set(data), key = data.count)\n",
    "\n",
    "def ValueFrequencyMode(data: list[tuple[float, int]]) -> float:\n",
    "    for value, freq in data:\n",
    "        if freq == max(data, key = lambda x: x[1])[1]:\n",
    "            return value\n",
    "\n",
    "def ValueFrequencyListToList(data: list[tuple[float, int]]) -> list[float]:\n",
    "    return [v for value, freq in data for v in [value] * freq]\n",
    "\n",
    "print(ValueFrequencyMode([(1, 9), (2, 8), (3, 5), (4, 5), (5, 6), (6, 7)]))"
   ]
  },
  {
   "cell_type": "code",
   "execution_count": 5,
   "metadata": {},
   "outputs": [
    {
     "name": "stdout",
     "output_type": "stream",
     "text": [
      "7.5\n",
      "360.6666666666667\n"
     ]
    }
   ],
   "source": [
    "def Variance (data: list[float]) -> float:\n",
    "    mean = Mean(data)\n",
    "    return sum((x - mean)**2 for x in data)/(len(data)-1)\n",
    "\n",
    "print(Variance([3, 4, 6, 7, 10]))\n",
    "print(Variance([-20, 5, 15, 24]))"
   ]
  },
  {
   "cell_type": "code",
   "execution_count": 6,
   "metadata": {},
   "outputs": [
    {
     "name": "stdout",
     "output_type": "stream",
     "text": [
      "2.7386127875258306\n",
      "18.991226044325487\n"
     ]
    }
   ],
   "source": [
    "import math\n",
    "\n",
    "def StandardDeviation (data: list[float]) -> float:\n",
    "    return math.sqrt(Variance(data))\n",
    "\n",
    "print(StandardDeviation([3, 4, 6, 7, 10]))\n",
    "print(StandardDeviation([-20, 5, 15, 24]))"
   ]
  },
  {
   "cell_type": "markdown",
   "metadata": {},
   "source": [
    "EXERCISE 1: The following is a sample of prices, rounded to the nearest cent, charged\n",
    "per gallon of standard unleaded gasoline in the San Francisco Bay area in\n",
    "June 1997.\n",
    "3.88, 3.90, 3.93, 3.90, 3.93, 3.96, 3.88, 3.94, 3.96, 3.88, 3.94, 3.99, 3.98\n",
    "Represent these data in\n",
    "a. a frequency table;\n",
    "b. a relative frequency line graph."
   ]
  },
  {
   "cell_type": "code",
   "execution_count": 2,
   "metadata": {},
   "outputs": [
    {
     "name": "stdout",
     "output_type": "stream",
     "text": [
      "{3.88: 3, 3.9: 2, 3.93: 2, 3.96: 2, 3.94: 2, 3.99: 1, 3.98: 1}\n",
      " Price  Frequency\n",
      "  3.88          3\n",
      "  3.90          2\n",
      "  3.93          2\n",
      "  3.96          2\n",
      "  3.94          2\n",
      "  3.99          1\n",
      "  3.98          1\n"
     ]
    },
    {
     "data": {
      "image/png": "[encoded data removed]",
      "text/plain": [
       "<Figure size 640x480 with 1 Axes>"
      ]
     },
     "metadata": {},
     "output_type": "display_data"
    }
   ],
   "source": [
    "import matplotlib.pyplot as plt\n",
    "import numpy as np\n",
    "import pandas as pd\n",
    "\n",
    "frequency = {}\n",
    "values = [3.88, 3.90, 3.93, 3.90, 3.93, 3.96, 3.88, 3.94, 3.96, 3.88, 3.94, 3.99, 3.98]\n",
    "for value in values:\n",
    "    if value in frequency:\n",
    "        frequency[value] += 1\n",
    "    else:\n",
    "        frequency[value] = 1\n",
    "print(frequency)\n",
    "\n",
    "x = list(frequency.keys())\n",
    "\n",
    "y = list(frequency.values())\n",
    "\n",
    "fig, ax = plt.subplots()\n",
    "\n",
    "ax.stem(x, y)\n",
    "\n",
    "data = {\"Price\": [3.88, 3.9, 3.93, 3.96, 3.94, 3.99, 3.98], \n",
    "        \"Frequency\": [3, 2, 2, 2, 2, 1, 1]}\n",
    "\n",
    "df = pd.DataFrame(data)\n",
    "print(df.to_string(index=False))\n",
    "\n",
    "plt.show()"
   ]
  },
  {
   "cell_type": "markdown",
   "metadata": {},
   "source": [
    "EXERCISE 3:. The following are the estimated oil reserves, in billions of barrels, for four\n",
    "regions in the Western Hemisphere:\n",
    "United States 38.7\n",
    "South America 22.6\n",
    "Canada 8.8\n",
    "Mexico 60.0"
   ]
  },
  {
   "cell_type": "code",
   "execution_count": 5,
   "metadata": {},
   "outputs": [
    {
     "data": {
      "image/png": "[encoded data removed]",
      "text/plain": [
       "<Figure size 400x400 with 1 Axes>"
      ]
     },
     "metadata": {},
     "output_type": "display_data"
    }
   ],
   "source": [
    "data = {\n",
    "    'Region': ['United States', 'South America', 'Canada', 'Mexico'],\n",
    "    'Value': [38.7, 22.6, 8.8, 60.0]\n",
    "}\n",
    "df = pd.DataFrame(data)\n",
    "\n",
    "# Create a pie chart\n",
    "plt.figure(figsize=(4, 4))\n",
    "plt.pie(df['Value'], labels=df['Region'], autopct='%1.1f%%')\n",
    "plt.title('Regional Values')\n",
    "plt.show()"
   ]
  },
  {
   "cell_type": "code",
   "execution_count": 7,
   "metadata": {},
   "outputs": [
    {
     "ename": "TypeError",
     "evalue": "'str' object cannot be interpreted as an integer",
     "output_type": "error",
     "traceback": [
      "\u001b[1;31m---------------------------------------------------------------------------\u001b[0m",
      "\u001b[1;31mTypeError\u001b[0m                                 Traceback (most recent call last)",
      "Cell \u001b[1;32mIn[7], line 30\u001b[0m\n\u001b[0;32m     26\u001b[0m sample \u001b[38;5;241m=\u001b[39m \u001b[38;5;124m\"\u001b[39m\u001b[38;5;124mA mitad del camino de la vida, en una selva oscura me encontraba porque mi ruta había extraviado. ¡Cuán dura cosa es decir cuál era esta salvaje selva, áspera y fuerte que me vuelve el temor al pensamiento! Es tan amarga casi cual la muerte; mas por tratar del bien que allí encontré, de otras cosas diré que me ocurrieron. Yo no sé repetir cómo entré en ella pues tan dormido me hallaba en el punto que abandoné la senda verdadera. Mas cuando hube llegado al pie de un monte, allí donde aquel valle terminaba que el corazón habíame aterrado, hacia lo alto miré, y vi que su cima ya vestían los rayos del planeta que lleva recto por cualquier camino. Entonces se calmó aquel miedo un poco, que en el lago del alma había entrado la noche que pasé con tanta angustia. Y como quien con aliento anhelante, ya salido del piélago a la orilla, se vuelve y mira al agua peligrosa, tal mi ánimo, huyendo todavía, se volvió por mirar de nuevo el sitio que a los que viven traspasar no deja. Repuesto un poco el cuerpo fatigado, seguí el camino por la yerma loma, siempre afirmando el pie de más abajo. Y vi, casi al principio de la cuesta, una onza ligera y muy veloz, que de una piel con pintas se cubría; y de delante no se me apartaba, mas de tal modo me cortaba el paso, que muchas veces quise dar la vuelta. Entonces comenzaba un nuevo día, y el sol se alzaba al par que las estrellas que junto a él el gran amor divino sus bellezas movió por vez primera; así es que no auguraba nada malo de aquella fiera de la piel manchada la hora del día y la dulce estación; mas no tal que terror no produjese la imagen de un león que luego vi. Me pareció que contra mí venía, con la cabeza erguida y hambre fiera, y hasta temerle parecia el aire. Y una loba que todo el apetito parecía cargar en su flaqueza, que ha hecho vivir a muchos en desgracia. Tantos pesares ésta me produjo, con el pavor que verla me causaba que perdí la esperanza de la cumbre. Y como aquel que alegre se hace rico y llega luego un tiempo en que se arruina, y en todo pensamiento sufre y llora: tal la bestia me hacía sin dar tregua, pues, viniendo hacia mí muy lentamente, me empujaba hacia allí donde el sol calla. Mientras que yo bajaba por la cuesta, se me mostró delante de los ojos alguien que, en su silencio, creí mudo. Cuando vi a aquel en ese gran desierto «Apiádate de mi -yo le grité-, seas quien seas, sombra a hombre vivo.» Me dijo: «Hombre no soy, mas hombre fui, y a mis padres dio cuna Lombardía pues Mantua fue la patria de los dos. Nací sub julio César, aunque tarde, y viví en Roma bajo el buen Augusto: tiempos de falsos dioses mentirosos. Poeta fui, y canté de aquel justo hijo de Anquises que vino de Troya, cuando Ilión la soberbia fue abrasada. ¿Por qué retornas a tan grande pena, y no subes al monte deleitoso que es principio y razón de toda dicha?» « ¿Eres Virgilio, pues, y aquella fuente de quien mana tal río de elocuencia? -respondí yo con frente avergonzada-. Oh luz y honor de todos los poetas, válgame el gran amor y el gran trabajo que me han hecho estudiar tu gran volumen. Eres tú mi modelo y mi maestro; el único eres tú de quien tomé el bello estilo que me ha dado honra. Mira la bestia por la cual me he vuelto: sabio famoso, de ella ponme a salvo, pues hace que me tiemblen pulso y venas.» «Es menester que sigas otra ruta -me repuso después que vio mi llanto-, si quieres irte del lugar salvaje; pues esta bestia, que gritar te hace, no deja a nadie andar por su camino, mas tanto se lo impide que los mata; y es su instinto tan cruel y tan malvado, que nunca sacia su ansia codiciosa y después de comer más hambre aún tiene. Con muchos animales se amanceba, y serán muchos más hasta que venga el Lebrel que la hará morir con duelo. Éste no comerá tierra ni peltre, sino virtud, amor, sabiduría, y su cuna estará entre Fieltro y Fieltro. Ha de salvar a aquella humilde Italia por quien murió Camila, la doncella, Turno, Euríalo y Niso con heridas. Éste la arrojará de pueblo en pueblo, hasta que dé con ella en el abismo, del que la hizo salir el Envidioso. Por lo que, por tu bien, pienso y decido que vengas tras de mí, y seré tu guía, y he de llevarte por lugar eterno, donde oirás el aullar desesperado, verás, dolientes, las antiguas sombras, gritando todas la segunda muerte; y podrás ver a aquellas que contenta el fuego, pues confían en llegar a bienaventuras cualquier día; y si ascender deseas junto a éstas, más digna que la mía allí hay un alma: te dejaré con ella cuando marche; que aquel Emperador que arriba reina, puesto que yo a sus leyes fui rebelde, no quiere que por mí a su reino subas. En toda parte impera y allí rige; allí está su ciudad y su alto trono. iCuán feliz es quien él allí destina!» Yo contesté: «Poeta, te requiero por aquel Dios que tú no conociste, para huir de éste o de otro mal más grande, que me lleves allí donde me has dicho, y pueda ver la puerta de San Pedro y aquellos infelices de que me hablas.» Entonces se echó a andar, y yo tras él.\u001b[39m\u001b[38;5;124m\"\u001b[39m\n\u001b[0;32m     27\u001b[0m \u001b[38;5;66;03m#endregion\u001b[39;00m\n\u001b[1;32m---> 30\u001b[0m \u001b[38;5;28mprint\u001b[39m(\u001b[43mStemLeafWordsInText\u001b[49m\u001b[43m(\u001b[49m\u001b[43msample\u001b[49m\u001b[43m)\u001b[49m)\n",
      "Cell \u001b[1;32mIn[7], line 17\u001b[0m, in \u001b[0;36mStemLeafWordsInText\u001b[1;34m(text)\u001b[0m\n\u001b[0;32m     13\u001b[0m max_stem \u001b[38;5;241m=\u001b[39m \u001b[38;5;28mstr\u001b[39m(MAX)[\u001b[38;5;241m0\u001b[39m]\n\u001b[0;32m     15\u001b[0m leaf_len \u001b[38;5;241m=\u001b[39m \u001b[38;5;28mlen\u001b[39m(\u001b[38;5;28mstr\u001b[39m(MAX)) \u001b[38;5;241m-\u001b[39m \u001b[38;5;241m1\u001b[39m\n\u001b[1;32m---> 17\u001b[0m stem_leaf: \u001b[38;5;28mdict\u001b[39m[\u001b[38;5;28mstr\u001b[39m, \u001b[38;5;28mlist\u001b[39m[\u001b[38;5;28mstr\u001b[39m]] \u001b[38;5;241m=\u001b[39m {i: [] \u001b[38;5;28;01mfor\u001b[39;00m i \u001b[38;5;129;01min\u001b[39;00m \u001b[38;5;28;43mrange\u001b[39;49m\u001b[43m(\u001b[49m\u001b[43mmin_stem\u001b[49m\u001b[43m,\u001b[49m\u001b[43m \u001b[49m\u001b[43mmax_stem\u001b[49m\u001b[43m)\u001b[49m}\n\u001b[0;32m     19\u001b[0m \u001b[38;5;28;01mfor\u001b[39;00m word_count \u001b[38;5;129;01min\u001b[39;00m words:\n\u001b[0;32m     20\u001b[0m   stem \u001b[38;5;241m=\u001b[39m \u001b[38;5;28mstr\u001b[39m(word_count)[\u001b[38;5;241m0\u001b[39m]\n",
      "\u001b[1;31mTypeError\u001b[0m: 'str' object cannot be interpreted as an integer"
     ]
    }
   ],
   "source": [
    "def CountWordsInSentence(sentence: str) -> int:\n",
    "  return len(sentence.split())\n",
    "\n",
    "def CountWordsInParagraph(paragraph: str) -> int:\n",
    "  return sum(CountWordsInSentence(sentence) for sentence in paragraph.split('.'))\n",
    "\n",
    "def StemLeafWordsInText(text: str) -> dict[int, list[str]]:\n",
    "  words = [CountWordsInSentence(sentence) for sentence in text.split('.')]\n",
    "  MAX = max(words)\n",
    "  MIN = min(words)\n",
    "  \n",
    "  min_stem = str(MIN)[0]\n",
    "  max_stem = str(MAX)[0]\n",
    "\n",
    "  leaf_len = len(str(MAX)) - 1\n",
    "\n",
    "  stem_leaf: dict[str, list[str]] = {i: [] for i in range(min_stem, max_stem)}\n",
    "\n",
    "  for word_count in words:\n",
    "    stem = str(word_count)[0]\n",
    "    stem_leaf[stem].append(str(word_count).zfill(leaf_len))\n",
    "\n",
    "  return stem_leaf\n",
    "\n",
    "#region text\n",
    "sample = \"A mitad del camino de la vida, en una selva oscura me encontraba porque mi ruta había extraviado. ¡Cuán dura cosa es decir cuál era esta salvaje selva, áspera y fuerte que me vuelve el temor al pensamiento! Es tan amarga casi cual la muerte; mas por tratar del bien que allí encontré, de otras cosas diré que me ocurrieron. Yo no sé repetir cómo entré en ella pues tan dormido me hallaba en el punto que abandoné la senda verdadera. Mas cuando hube llegado al pie de un monte, allí donde aquel valle terminaba que el corazón habíame aterrado, hacia lo alto miré, y vi que su cima ya vestían los rayos del planeta que lleva recto por cualquier camino. Entonces se calmó aquel miedo un poco, que en el lago del alma había entrado la noche que pasé con tanta angustia. Y como quien con aliento anhelante, ya salido del piélago a la orilla, se vuelve y mira al agua peligrosa, tal mi ánimo, huyendo todavía, se volvió por mirar de nuevo el sitio que a los que viven traspasar no deja. Repuesto un poco el cuerpo fatigado, seguí el camino por la yerma loma, siempre afirmando el pie de más abajo. Y vi, casi al principio de la cuesta, una onza ligera y muy veloz, que de una piel con pintas se cubría; y de delante no se me apartaba, mas de tal modo me cortaba el paso, que muchas veces quise dar la vuelta. Entonces comenzaba un nuevo día, y el sol se alzaba al par que las estrellas que junto a él el gran amor divino sus bellezas movió por vez primera; así es que no auguraba nada malo de aquella fiera de la piel manchada la hora del día y la dulce estación; mas no tal que terror no produjese la imagen de un león que luego vi. Me pareció que contra mí venía, con la cabeza erguida y hambre fiera, y hasta temerle parecia el aire. Y una loba que todo el apetito parecía cargar en su flaqueza, que ha hecho vivir a muchos en desgracia. Tantos pesares ésta me produjo, con el pavor que verla me causaba que perdí la esperanza de la cumbre. Y como aquel que alegre se hace rico y llega luego un tiempo en que se arruina, y en todo pensamiento sufre y llora: tal la bestia me hacía sin dar tregua, pues, viniendo hacia mí muy lentamente, me empujaba hacia allí donde el sol calla. Mientras que yo bajaba por la cuesta, se me mostró delante de los ojos alguien que, en su silencio, creí mudo. Cuando vi a aquel en ese gran desierto «Apiádate de mi -yo le grité-, seas quien seas, sombra a hombre vivo.» Me dijo: «Hombre no soy, mas hombre fui, y a mis padres dio cuna Lombardía pues Mantua fue la patria de los dos. Nací sub julio César, aunque tarde, y viví en Roma bajo el buen Augusto: tiempos de falsos dioses mentirosos. Poeta fui, y canté de aquel justo hijo de Anquises que vino de Troya, cuando Ilión la soberbia fue abrasada. ¿Por qué retornas a tan grande pena, y no subes al monte deleitoso que es principio y razón de toda dicha?» « ¿Eres Virgilio, pues, y aquella fuente de quien mana tal río de elocuencia? -respondí yo con frente avergonzada-. Oh luz y honor de todos los poetas, válgame el gran amor y el gran trabajo que me han hecho estudiar tu gran volumen. Eres tú mi modelo y mi maestro; el único eres tú de quien tomé el bello estilo que me ha dado honra. Mira la bestia por la cual me he vuelto: sabio famoso, de ella ponme a salvo, pues hace que me tiemblen pulso y venas.» «Es menester que sigas otra ruta -me repuso después que vio mi llanto-, si quieres irte del lugar salvaje; pues esta bestia, que gritar te hace, no deja a nadie andar por su camino, mas tanto se lo impide que los mata; y es su instinto tan cruel y tan malvado, que nunca sacia su ansia codiciosa y después de comer más hambre aún tiene. Con muchos animales se amanceba, y serán muchos más hasta que venga el Lebrel que la hará morir con duelo. Éste no comerá tierra ni peltre, sino virtud, amor, sabiduría, y su cuna estará entre Fieltro y Fieltro. Ha de salvar a aquella humilde Italia por quien murió Camila, la doncella, Turno, Euríalo y Niso con heridas. Éste la arrojará de pueblo en pueblo, hasta que dé con ella en el abismo, del que la hizo salir el Envidioso. Por lo que, por tu bien, pienso y decido que vengas tras de mí, y seré tu guía, y he de llevarte por lugar eterno, donde oirás el aullar desesperado, verás, dolientes, las antiguas sombras, gritando todas la segunda muerte; y podrás ver a aquellas que contenta el fuego, pues confían en llegar a bienaventuras cualquier día; y si ascender deseas junto a éstas, más digna que la mía allí hay un alma: te dejaré con ella cuando marche; que aquel Emperador que arriba reina, puesto que yo a sus leyes fui rebelde, no quiere que por mí a su reino subas. En toda parte impera y allí rige; allí está su ciudad y su alto trono. iCuán feliz es quien él allí destina!» Yo contesté: «Poeta, te requiero por aquel Dios que tú no conociste, para huir de éste o de otro mal más grande, que me lleves allí donde me has dicho, y pueda ver la puerta de San Pedro y aquellos infelices de que me hablas.» Entonces se echó a andar, y yo tras él.\"\n",
    "#endregion\n",
    "\n",
    "\n",
    "print(StemLeafWordsInText(sample))\n"
   ]
  }
 ],
 "metadata": {
  "kernelspec": {
   "display_name": "Python 3",
   "language": "python",
   "name": "python3"
  },
  "language_info": {
   "codemirror_mode": {
    "name": "ipython",
    "version": 3
   },
   "file_extension": ".py",
   "mimetype": "text/x-python",
   "name": "python",
   "nbconvert_exporter": "python",
   "pygments_lexer": "ipython3",
   "version": "3.12.2"
  }
 },
 "nbformat": 4,
 "nbformat_minor": 2
}
